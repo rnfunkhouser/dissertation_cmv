{
 "cells": [
  {
   "cell_type": "markdown",
   "metadata": {},
   "source": [
    "## Import packages"
   ]
  },
  {
   "cell_type": "code",
   "execution_count": null,
   "metadata": {},
   "outputs": [],
   "source": []
  },
  {
   "cell_type": "markdown",
   "metadata": {},
   "source": [
    "## Define RedditComment Class and Functions"
   ]
  },
  {
   "cell_type": "code",
   "execution_count": 11,
   "metadata": {},
   "outputs": [],
   "source": [
    "import pandas as pd\n",
    "import csv\n",
    "#define the class object\n",
    "class RedditComment:\n",
    "    def __init__(self, row):\n",
    "        # Existing code\n",
    "        self.id = row['id']\n",
    "        self.author = row['author']\n",
    "        self.parent_id = row['parent_id']\n",
    "        self.body = row.get('body', '').strip()\n",
    "        self.CreatedAt = row.get('CreatedAt', '')\n",
    "        self.is_submitter = str(row['is_submitter']).strip().lower() in [\"true\"]\n",
    "        self.has_delta = str(row['has_delta_from_OP']).strip().lower() in [\"true\"]\n",
    "        # Initialize other attributes\n",
    "        self.children = []\n",
    "        self.tlc_author = False\n",
    "        self.delta_in_tree = False\n",
    "        self.received_delta = False  # For TLC comments that received a delta\n",
    "        self.awarded_delta = False   # For OP comments that awarded a delta\n",
    "        self.parent_author = None\n",
    "        self.contains_delta_award = False\n",
    "        self.delta_path = []\n",
    "    def find_parent_author(self, all_comments_dict):\n",
    "        \"\"\"Find and set the author of this comment's parent.\"\"\"\n",
    "        # If the parent author is already known, return it\n",
    "        if self.parent_author is not None:\n",
    "            return self.parent_author\n",
    "\n",
    "        # If the parent is a submission (not a comment)\n",
    "        if self.parent_id.startswith(\"t3_\"):\n",
    "            # We can't determine the author of the submission from our comment data\n",
    "            self.parent_author = None\n",
    "        # Otherwise, the parent is another comment\n",
    "        else:\n",
    "            # Extract the comment ID from the parent_id (removing the \"t1_\" prefix)\n",
    "            parent_comment_id = self.parent_id[3:]\n",
    "            \n",
    "            # Look up the parent comment in our dictionary\n",
    "            parent_comment = all_comments_dict.get(parent_comment_id)\n",
    "            \n",
    "            # If we found the parent, get its author\n",
    "            if parent_comment:\n",
    "                self.parent_author = parent_comment.author\n",
    "        \n",
    "        return self.parent_author\n",
    "    def collect_TLC_comments_to_delta(self):\n",
    "        \"\"\"\n",
    "        Collect all comments by the TLC author from this comment down to the one that received a delta.\n",
    "        Returns a list of comment bodies if a path is found, otherwise an empty list.\n",
    "        \"\"\"\n",
    "        # If this isn't a TLC author comment, we're on the wrong path\n",
    "        if not self.tlc_author:\n",
    "            return []\n",
    "        \n",
    "        # Start with the current comment\n",
    "        tlc_comments = [self.body]\n",
    "        \n",
    "        # If this comment received a delta, we're done - return just this comment\n",
    "        if self.received_delta:\n",
    "            return tlc_comments\n",
    "        \n",
    "        # Otherwise, try to find a path through the children\n",
    "        for child in self.children:\n",
    "            # Recursively collect comments from this child\n",
    "            child_path = child.collect_TLC_comments_to_delta()\n",
    "            \n",
    "            # If child path exists (not empty), we found a path to a delta\n",
    "            if child_path:\n",
    "                # Add the child's path to our result and return\n",
    "                return tlc_comments + child_path\n",
    "        \n",
    "        # No path found through any children\n",
    "        return []\n",
    "    def find_OP_awarding_delta_to_TLC(self):\n",
    "        \"\"\"\n",
    "        Recursively search the comment tree to find where OP awarded a delta to the TLC author.\n",
    "        \n",
    "        Returns True if this comment or any of its descendants contain a delta award interaction.\n",
    "        This helps with building the path to the delta.\n",
    "        \"\"\"\n",
    "        self.contains_delta_award = False\n",
    "        \n",
    "        # Check if this comment is by the TLC author and has received a delta\n",
    "        if self.tlc_author and self.has_delta:\n",
    "            # Look for an OP child that might have awarded the delta\n",
    "            for child in self.children:\n",
    "                if child.is_submitter:\n",
    "                    # We found the interaction! Mark both comments accordingly\n",
    "                    self.received_delta = True\n",
    "                    child.awarded_delta = True\n",
    "                    self.contains_delta_award = True\n",
    "                    break  # Found the interaction, no need to check other children\n",
    "        \n",
    "        # Recursively search all children\n",
    "        for child in self.children:\n",
    "            # If any child contains a delta award, this subtree contains a delta award\n",
    "            if child.find_OP_awarding_delta_to_TLC():\n",
    "                self.contains_delta_award = True\n",
    "        \n",
    "        # Return the value so parent calls can update their status accordingly\n",
    "        return self.contains_delta_award\n",
    "    def find_delta_in_tree(self):\n",
    "        \"\"\"\n",
    "        Determines if this comment or any of its descendants contains a delta award\n",
    "        specifically between the TLC author and OP.\n",
    "        \"\"\"\n",
    "        self.delta_in_tree = self.contains_delta_award\n",
    "        \n",
    "        # Also check immediate children\n",
    "        if not self.delta_in_tree:\n",
    "            for child in self.children:\n",
    "                if child.contains_delta_award:\n",
    "                    self.delta_in_tree = True\n",
    "                    break\n",
    "        \n",
    "        return self.delta_in_tree\n",
    "\n",
    "    def total_children(self):\n",
    "        count_children = 0\n",
    "        for child in self.children:\n",
    "            count_children += 1\n",
    "            count_children += child.total_children()\n",
    "        return count_children\n",
    "    \n",
    "    def mark_tlc_author_comments(self):\n",
    "        # Recursively mark if a comment is by the TLC author\n",
    "        if self.parent_id.startswith(\"t3_\"):\n",
    "            self.tlc_author = True\n",
    "        for child in self.children:\n",
    "            if child.author == self.author and self.tlc_author:\n",
    "                child.tlc_author = True\n",
    "            child.mark_tlc_author_comments()\n",
    "    \n",
    "\n"
   ]
  },
  {
   "cell_type": "markdown",
   "metadata": {},
   "source": [
    "## Execute Class Functions on Data\n"
   ]
  },
  {
   "cell_type": "code",
   "execution_count": 12,
   "metadata": {},
   "outputs": [
    {
     "name": "stdout",
     "output_type": "stream",
     "text": [
      "Total top-level comments/trees: 24649\n",
      "Total comments: 136195\n",
      "Total comments with children: 87949\n"
     ]
    }
   ],
   "source": [
    "if __name__ == \"__main__\":\n",
    "    filepath = '/Users/ryanfunkhouser/Documents/Research/backup_cmv_computational_small_stories/data/CMV_purged_columns.csv'\n",
    "    with open(filepath, 'r', encoding='utf-8') as file:\n",
    "        reader = csv.DictReader(file)\n",
    "        # Initialize a dictionary to map id to RedditComment objects\n",
    "        all_comments_dict = {}\n",
    "        # Initialize a list for top-level comments\n",
    "        top_level_comments = []\n",
    "        # Process each row from the CSV\n",
    "        for comment in reader:\n",
    "            reddit_comment = RedditComment(comment)\n",
    "            all_comments_dict[comment['id']] = reddit_comment\n",
    "            # Check if the comment is a top-level comment\n",
    "            if comment['parent_id'].startswith(\"t3_\"):\n",
    "                top_level_comments.append(reddit_comment)\n",
    "            else:\n",
    "                # This assumes that the parent_id field is prefixed with \"t1_\" when the parent is a comment\n",
    "                parent_comment_id = comment['parent_id'][3:]\n",
    "                parent_comment = all_comments_dict.get(parent_comment_id)\n",
    "                if parent_comment:\n",
    "                    parent_comment.children.append(reddit_comment)\n",
    "        for comment in top_level_comments:\n",
    "            comment.mark_tlc_author_comments()\n",
    "            comment.find_OP_awarding_delta_to_TLC()\n",
    "            comment.find_delta_in_tree()\n",
    "     \n",
    "\n",
    "        for comment in all_comments_dict.values():\n",
    "            comment.find_parent_author(all_comments_dict)    \n",
    "\n",
    "        print(f\"Total top-level comments/trees: {len(top_level_comments)}\")\n",
    "        print(f\"Total comments: {len(all_comments_dict)}\")\n",
    "        print(f\"Total comments with children: {sum(comment.total_children() for comment in top_level_comments)}\")\n"
   ]
  },
  {
   "cell_type": "markdown",
   "metadata": {},
   "source": [
    "## Filter to only include desired conversations"
   ]
  },
  {
   "cell_type": "code",
   "execution_count": 13,
   "metadata": {},
   "outputs": [
    {
     "name": "stdout",
     "output_type": "stream",
     "text": [
      "✅ Output saved to ../data/qualified_conversations.csv\n",
      "0 number of qualified conversations\n"
     ]
    }
   ],
   "source": [
    "# Step 1: Initialize the qualified conversations dictionary\n",
    "qualified_conversations = {}\n",
    "\n",
    "# Step 2: Filter the top-level comments to find \"qualified conversations\"\n",
    "# When building qualified_conversations\n",
    "for comment in top_level_comments:\n",
    "    if comment.delta_in_tree and comment.contains_delta_award:\n",
    "        # Instead of collect_tlc_author_comments, use:\n",
    "        tlc_comments_to_delta = comment.collect_TLC_comments_to_delta()\n",
    "        \n",
    "        # If we found a path to the delta\n",
    "        if tlc_comments_to_delta:\n",
    "            combined_text = \"\\n---\\n\".join(tlc_comments_to_delta)\n",
    "            \n",
    "            # Store in qualified_conversations\n",
    "            qualified_conversations[comment.id] = {\n",
    "                # Existing fields\n",
    "                \"id\": comment.id,\n",
    "                \"author\": comment.author,\n",
    "                \"is_submitter\": comment.is_submitter,\n",
    "                \"has_delta\": comment.has_delta,\n",
    "                \"only_OP_and_TLC\": comment.only_op_and_tlc,\n",
    "                \"body\": combined_text,  # Now contains only TLC comments up to delta\n",
    "                \"parent_id\": comment.parent_id,\n",
    "                \"op_replied\": comment.op_replied,\n",
    "                \"total_children\": comment.total_children(),\n",
    "                \"CreatedAt\": comment.CreatedAt,\n",
    "                # You could add new fields\n",
    "                \"delta_path_length\": len(tlc_comments_to_delta)\n",
    "            }\n",
    "# Step 5: Convert to a pandas DataFrame and save as CSV\n",
    "df = pd.DataFrame.from_dict(qualified_conversations, orient=\"index\")\n",
    "\n",
    "# Save the DataFrame as a CSV\n",
    "output_csv_path = \"../data/qualified_conversations.csv\"\n",
    "df.to_csv(output_csv_path, index=False, encoding='utf-8')\n",
    "\n",
    "print(f\"✅ Output saved to {output_csv_path}\")\n",
    "print(len(qualified_conversations), \"number of qualified conversations\")"
   ]
  },
  {
   "cell_type": "markdown",
   "metadata": {},
   "source": [
    "## Various Iterations of Filtering and Validation"
   ]
  },
  {
   "cell_type": "code",
   "execution_count": 91,
   "metadata": {},
   "outputs": [
    {
     "name": "stdout",
     "output_type": "stream",
     "text": [
      "Number of trees with OP replied: 5273\n"
     ]
    }
   ],
   "source": [
    "trees_op_replied = 0\n",
    "for comment in top_level_comments:\n",
    "    if comment.op_replied:\n",
    "        trees_op_replied += 1\n",
    "print(f\"Number of trees with OP replied: {trees_op_replied}\")"
   ]
  },
  {
   "cell_type": "code",
   "execution_count": 92,
   "metadata": {},
   "outputs": [
    {
     "name": "stdout",
     "output_type": "stream",
     "text": [
      "CSV Columns Available: ['Unnamed: 0', 'id', 'link_id', 'parent_id', 'CreatedAt', 'author', 'ups', 'downs', 'is_submitter', 'body', 'subreddit', 'Month', 'Year', 'Day', 'has_delta_from_OP']\n"
     ]
    }
   ],
   "source": [
    "import csv\n",
    "\n",
    "with open(\"/Users/ryanfunkhouser/Documents/Research/backup_cmv_computational_small_stories/data/CMV_purged_columns.csv\", \"r\", encoding=\"utf-8\") as file:\n",
    "    reader = csv.DictReader(file)  # ✅ This reads the CSV as a dictionary\n",
    "    print(\"CSV Columns Available:\", reader.fieldnames)  # ✅ Prints available column names"
   ]
  },
  {
   "cell_type": "code",
   "execution_count": 93,
   "metadata": {},
   "outputs": [
    {
     "name": "stdout",
     "output_type": "stream",
     "text": [
      "Total comments marked as having a delta: 676\n"
     ]
    }
   ],
   "source": [
    "delta_count = sum(1 for comment in top_level_comments if comment.has_delta)\n",
    "print(f\"Total comments marked as having a delta: {delta_count}\")\n"
   ]
  },
  {
   "cell_type": "code",
   "execution_count": 94,
   "metadata": {},
   "outputs": [
    {
     "name": "stdout",
     "output_type": "stream",
     "text": [
      "Total comments marked as having a delta: 762\n"
     ]
    }
   ],
   "source": [
    "# Print the first few rows to see how 'has_delta_from_OP' is stored\n",
    "import csv\n",
    "\n",
    "with open(\"/Users/ryanfunkhouser/Documents/Research/backup_cmv_computational_small_stories/data/CMV_purged_columns.csv\", \"r\", encoding=\"utf-8\") as file:\n",
    "    reader = csv.DictReader(file)\n",
    "    delta_count = 0\n",
    "    for i, row in enumerate(reader):\n",
    "        if row['has_delta_from_OP'].strip().lower() == \"true\":\n",
    "            delta_count += 1\n",
    "    print(f\"Total comments marked as having a delta: {delta_count}\")\n",
    "        \n",
    "        #print(f\"Row {i}: {row['has_delta_from_OP']}\")\n",
    "       # if i == 2000:  # Only print the first 2000 rows\n",
    "            #break"
   ]
  },
  {
   "cell_type": "code",
   "execution_count": 79,
   "metadata": {},
   "outputs": [
    {
     "name": "stdout",
     "output_type": "stream",
     "text": [
      "iejktgm, [deleted]\n",
      "ieklded, [deleted]\n",
      "ifnp7k2, [removed]\n",
      "igk17md, [deleted]\n"
     ]
    }
   ],
   "source": [
    "for comment in top_level_comments:\n",
    "    if  comment.has_delta == True:\n",
    "        print(f\"{comment.id}, {comment.body[:50]}\")"
   ]
  },
  {
   "cell_type": "code",
   "execution_count": null,
   "metadata": {},
   "outputs": [],
   "source": [
    "#checking number of deltas\n",
    "delta_count = 0\n",
    "for comment in top_level_comments:\n",
    "    if  comment.has_delta == True:\n",
    "        delta_count += 1\n",
    "\n",
    "print(f\"Number of top-level comments where there is a delta in the tree: {delta_count}\")"
   ]
  },
  {
   "cell_type": "code",
   "execution_count": null,
   "metadata": {},
   "outputs": [],
   "source": [
    "def print_filtered_trees(comments):\n",
    "    valid_trees_count = 0\n",
    "    for comment in comments:\n",
    "        if comment.only_op_and_tlc and comment.has_delta:  # ✅ Fix both conditions\n",
    "            print(\"\\nTop Level Comment:\", comment.id)\n",
    "            valid_trees_count += 1\n",
    "    print(f\"\\nTotal Comment Trees Matching Criteria: {valid_trees_count}\")\n",
    "\n",
    "print_filtered_trees(top_level_comments)"
   ]
  },
  {
   "cell_type": "code",
   "execution_count": null,
   "metadata": {},
   "outputs": [],
   "source": [
    "#prints the comment tree structure\n",
    "def print_comment_structure(comment, level=0):\n",
    "    # Print the current comment's ID and its children count, indented by the level in the hierarchy\n",
    "    # Include a marker or note if the comment is by the TLC author\n",
    "    tlc_author_marker = \" (TLC Author)\" if comment.tlc_author else \"\"    \n",
    "    # Print the current comment's ID, its children count, and if it's by the TLC author\n",
    "    #print('  ' * level + f\"{comment.id} ({comment.total_children()} children){tlc_author_marker}\")\n",
    "    print('  ' * level + f\"{comment.id} ({comment.body[:50]}){tlc_author_marker}\")\n",
    "    for child in comment.children:\n",
    "        print_comment_structure(child, level + 1)\n",
    "\n",
    "#keeps it from breaking if it's too big\n",
    "for reddit_comment in top_level_comments:\n",
    "    count = 0\n",
    "    print_comment_structure(reddit_comment)\n",
    "    count += 1\n",
    "    if count >= 20:\n",
    "        break"
   ]
  },
  {
   "cell_type": "code",
   "execution_count": null,
   "metadata": {},
   "outputs": [],
   "source": [
    "#creates and prints the comment tree structure showing only the TLC comments in trees where the OP replied\n",
    "def print_tlc_comment_structure(comment, is_top_level=True):\n",
    "    # Base check at the top level: proceed only if OP replied in this subtree\n",
    "    if is_top_level and not comment.is_submitter:\n",
    "        return\n",
    "\n",
    "    # Print or process the comment only if it is by the TLC author\n",
    "    if comment.is_tlc_author:\n",
    "        print(f\"{comment.id} (TLC Author) : {comment.total_children()} children\")\n",
    "\n",
    "    # Recurse into children to continue checking and printing as necessary\n",
    "    for child in comment.children:\n",
    "        print_tlc_comment_structure(child, is_top_level=False)\n",
    "\n",
    "for comment in top_level_comments:\n",
    "    comment.update_op_replied()  # Make sure the op_replied is up to date\n",
    "    print(\"\\nTop Level Comment:\", comment.id)\n",
    "    print_tlc_comment_structure(comment)\n"
   ]
  },
  {
   "cell_type": "code",
   "execution_count": null,
   "metadata": {},
   "outputs": [],
   "source": [
    "#validation check for capturing if OP replied\n",
    "# Print only those top-level comments where the OP has replied in the subtree\n",
    "op_replied_count = 0\n",
    "for comment in top_level_comments:\n",
    "    if comment.is_submitter:\n",
    "        print_comment_structure(comment)\n",
    "        op_replied_count += 1\n",
    "print(f\"Total top-level comments where the OP replied: {op_replied_count}\")\n",
    "\n"
   ]
  },
  {
   "cell_type": "code",
   "execution_count": null,
   "metadata": {},
   "outputs": [],
   "source": [
    "#validation check for printing the top 5 TLCs with the most comments under them. \n",
    "# Calculate the total number of children for each top-level comment\n",
    "top_level_comments_with_children = [(comment, comment.total_children()) for comment in top_level_comments]\n",
    "\n",
    "# Sort the top-level comments based on the total number of children\n",
    "sorted_top_level_comments = sorted(top_level_comments_with_children, key=lambda x: x[1], reverse=True)\n",
    "\n",
    "# Select the top 5 comments with the most children\n",
    "top_5_comments = sorted_top_level_comments[:5]\n",
    "\n",
    "# Print the comment structure for each of the top 5 comments\n",
    "for comment, _ in top_5_comments:\n",
    "    print(\"\\nTop Level Comment:\", comment.id)\n",
    "    print_comment_structure(comment)"
   ]
  },
  {
   "cell_type": "code",
   "execution_count": null,
   "metadata": {},
   "outputs": [],
   "source": []
  }
 ],
 "metadata": {
  "kernelspec": {
   "display_name": "base",
   "language": "python",
   "name": "python3"
  },
  "language_info": {
   "codemirror_mode": {
    "name": "ipython",
    "version": 3
   },
   "file_extension": ".py",
   "mimetype": "text/x-python",
   "name": "python",
   "nbconvert_exporter": "python",
   "pygments_lexer": "ipython3",
   "version": "3.11.6"
  },
  "orig_nbformat": 4
 },
 "nbformat": 4,
 "nbformat_minor": 2
}
